{
 "cells": [
  {
   "attachments": {},
   "cell_type": "markdown",
   "metadata": {},
   "source": [
    "This file is used to visualize aspects of activity during different days during the week "
   ]
  },
  {
   "attachments": {},
   "cell_type": "markdown",
   "metadata": {},
   "source": [
    "# Basic import and preprocessing"
   ]
  },
  {
   "cell_type": "code",
   "execution_count": null,
   "metadata": {},
   "outputs": [],
   "source": [
    "import pyarrow.parquet as pq\n",
    "import matplotlib.pyplot as plt\n",
    "import numpy as np\n",
    "import seaborn as sns\n",
    "import tarfile\n",
    "import pandas as pd\n",
    "pd.options.plotting.backend = 'plotly'"
   ]
  },
  {
   "cell_type": "code",
   "execution_count": null,
   "metadata": {},
   "outputs": [],
   "source": [
    "df = pd.read_csv ('')\n",
    "df2 = pd.read_csv('')\n",
    "df3 = pd.read_csv('')\n",
    "df4 = pd.read_parquet(\"\")\n",
    "df5 = pd.read_parquet(\"\")\n",
    "df6 = pd.read_parquet(\"\")\n",
    "df7 = pd.read_parquet(\"\")\n",
    "df8 = pd.read_parquet(\"\")\n",
    "df9 = pd.read_parquet(\"\")\n",
    "df10 = pd.read_parquet(\"\")"
   ]
  },
  {
   "cell_type": "code",
   "execution_count": null,
   "metadata": {},
   "outputs": [],
   "source": [
    "# Clean the itemId column\n",
    "df2['itemId'] = df2['itemId'].str.replace('a-', '')\n",
    "df['itemId'] = df['itemId'].str.replace('a-', '')\n",
    "\n",
    "# Combine viewing sessions\n",
    "df_matches = pd.concat([df4, df5, df6, df7, df8, df9, df10])\n",
    "\n",
    "# Changing to day of the week\n",
    "df_matches[\"dayOfWeek\"] = df_matches[\"firstStart\"].dt.day_name()\n",
    "\n",
    "# Count day of the week \n",
    "df_value_matched = df_matches[\"dayOfWeek\"].value_counts()"
   ]
  },
  {
   "cell_type": "code",
   "execution_count": null,
   "metadata": {},
   "outputs": [],
   "source": [
    "# Calculate the total views and percentages\n",
    "total_views = df_value_matched.sum()\n",
    "percentage = df_value_matched / total_views"
   ]
  },
  {
   "attachments": {},
   "cell_type": "markdown",
   "metadata": {},
   "source": [
    "### Plot "
   ]
  },
  {
   "cell_type": "code",
   "execution_count": null,
   "metadata": {},
   "outputs": [],
   "source": [
    "# Calculate the total views and percentages\n",
    "total_views = df_value_matched.sum()\n",
    "percentage = df_value_matched / total_views\n",
    "\n",
    "fig = percentage.plot(kind='bar', color=percentage.index)\n",
    "\n",
    "# Update the layout with x and y axis labels\n",
    "fig.update_layout(xaxis_title=\"Day of the week\", yaxis_title=\"Percentage of total views\", font=dict(size=17), legend_title_text=None,\n",
    "                   xaxis=dict(title_font=dict(color='black')),\n",
    "                   yaxis=dict(title_font=dict(color='black')),\n",
    "                   legend=dict(font=dict(color='black')))\n",
    "\n",
    "fig.show()"
   ]
  },
  {
   "attachments": {},
   "cell_type": "markdown",
   "metadata": {},
   "source": [
    "### Correlation between different weekdays"
   ]
  },
  {
   "cell_type": "code",
   "execution_count": null,
   "metadata": {},
   "outputs": [],
   "source": [
    "df_day_watched = df_matches[\"dayOfWeek\"].groupby([df_matches.profileId]).apply(sum).reset_index()\n"
   ]
  },
  {
   "cell_type": "code",
   "execution_count": null,
   "metadata": {},
   "outputs": [],
   "source": [
    "df_day_watched[\"Monday\"] = df_day_watched.dayOfWeek.str.count(\"Monday\")\n",
    "df_day_watched[\"Tuesday\"] = df_day_watched.dayOfWeek.str.count(\"Tuesday\")\n",
    "df_day_watched[\"Wednesday\"] = df_day_watched.dayOfWeek.str.count(\"Wednesday\")\n",
    "df_day_watched[\"Thursday\"] = df_day_watched.dayOfWeek.str.count(\"Thursday\")\n",
    "df_day_watched[\"Friday\"] = df_day_watched.dayOfWeek.str.count(\"Friday\")\n",
    "df_day_watched[\"Saturday\"] = df_day_watched.dayOfWeek.str.count(\"Saturday\")\n",
    "df_day_watched[\"Sunday\"] = df_day_watched.dayOfWeek.str.count(\"Sunday\")"
   ]
  },
  {
   "cell_type": "code",
   "execution_count": null,
   "metadata": {},
   "outputs": [],
   "source": [
    "import seaborn as sns\n",
    "import matplotlib.pyplot as plt\n",
    "\n",
    "# Create a correlation matrix dataframe\n",
    "df_correlation = df_day_watched.corr()\n",
    "\n",
    "# Set the figure size\n",
    "plt.figure(figsize=(8, 6))\n",
    "\n",
    "# Generate the heatmap with annotations\n",
    "heatmap = sns.heatmap(df_correlation, annot=True, cmap='coolwarm', fmt=\".2f\",\n",
    "                      linewidths=0.5, annot_kws={'size': 10})\n",
    "\n",
    "# Customize the plot\n",
    "heatmap.set_xticklabels(heatmap.get_xticklabels(), rotation=45, ha='right', fontsize=10)\n",
    "heatmap.set_yticklabels(heatmap.get_yticklabels(), rotation=0, ha='right', fontsize=10)\n",
    "\n",
    "# Adjust the layout\n",
    "plt.tight_layout()\n",
    "\n",
    "plt.show() \n"
   ]
  },
  {
   "cell_type": "code",
   "execution_count": null,
   "metadata": {},
   "outputs": [],
   "source": []
  }
 ],
 "metadata": {
  "kernelspec": {
   "display_name": "Scrapy",
   "language": "python",
   "name": "python3"
  },
  "language_info": {
   "codemirror_mode": {
    "name": "ipython",
    "version": 3
   },
   "file_extension": ".py",
   "mimetype": "text/x-python",
   "name": "python",
   "nbconvert_exporter": "python",
   "pygments_lexer": "ipython3",
   "version": "3.8.8"
  },
  "orig_nbformat": 4
 },
 "nbformat": 4,
 "nbformat_minor": 2
}
