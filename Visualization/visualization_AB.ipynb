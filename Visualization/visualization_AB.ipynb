{
 "cells": [
  {
   "attachments": {},
   "cell_type": "markdown",
   "metadata": {},
   "source": [
    "This file is used to visualize the results from the online A/B testing. Both for online experiment 1 and 2."
   ]
  },
  {
   "cell_type": "code",
   "execution_count": null,
   "metadata": {},
   "outputs": [],
   "source": [
    "import pandas as pd\n",
    "import matplotlib.pyplot as plt"
   ]
  },
  {
   "attachments": {},
   "cell_type": "markdown",
   "metadata": {},
   "source": [
    "### Experiment 1"
   ]
  },
  {
   "attachments": {},
   "cell_type": "markdown",
   "metadata": {},
   "source": [
    "### Visualization"
   ]
  },
  {
   "cell_type": "code",
   "execution_count": null,
   "metadata": {},
   "outputs": [],
   "source": [
    "import pandas as pd\n",
    "import matplotlib.pyplot as plt\n",
    "from datetime import datetime\n",
    "\n",
    "# Read the CSV file containing numbers from the A/B test\n",
    "data = pd.read_csv('')\n",
    "\n",
    "# Convert 'date' column to datetime format\n",
    "data['date'] = pd.to_datetime(data['date'])\n",
    "\n",
    "# Convert 'date' column to custom date format\n",
    "data['date'] = data['date'].dt.strftime('%b %d')\n",
    "\n",
    "# Filter the data by experiment\n",
    "experiment_a = data[data['experiment'] == 'experiement_a']\n",
    "experiment_b = data[data['experiment'] == 'experiement_b']\n",
    "\n",
    "# Define custom colors for the lines\n",
    "color_a = \"#FF5733\"  \n",
    "color_b = \"#3498DB\"  \n",
    "\n",
    "# Create the line plot for Views\n",
    "plt.figure(figsize=(8, 3.5))\n",
    "plt.plot(experiment_a['date'], experiment_a['views'], marker='o', linestyle='-', markersize=5, linewidth=1, color=color_a, label='Time-bases')\n",
    "plt.plot(experiment_b['date'], experiment_b['views'], marker='o', linestyle='-', markersize=5, linewidth=1, color=color_b, label='CF (ALS)')\n",
    "plt.ylabel('Views', fontsize=12)\n",
    "plt.legend(fontsize=10, bbox_to_anchor =(0.65, 1.2), ncol =2)\n",
    "plt.grid(True)\n",
    "plt.xticks(fontsize=10, rotation=45)\n",
    "plt.yticks(fontsize=10)\n",
    "plt.tight_layout()\n",
    "plt.show()\n",
    "\n",
    "# Create the line plot for Clicks\n",
    "plt.figure(figsize=(8, 3))\n",
    "plt.plot(experiment_a['date'], experiment_a['clicks'], marker='o', linestyle='-', markersize=5, linewidth=1, color=color_a, label='Experiment A')\n",
    "plt.plot(experiment_b['date'], experiment_b['clicks'], marker='o', linestyle='-', markersize=5, linewidth=1, color=color_b, label='Experiment B')\n",
    "plt.ylabel('Clicks', fontsize=12)\n",
    "plt.grid(True)\n",
    "plt.xticks(fontsize=10, rotation=45)\n",
    "plt.yticks(fontsize=10)\n",
    "plt.tight_layout()\n",
    "plt.show()\n",
    "\n",
    "# Create the line plot for CTR\n",
    "plt.figure(figsize=(8, 3))\n",
    "plt.plot(experiment_a['date'], experiment_a['ctr'], marker='o', linestyle='-', markersize=5, linewidth=1, color=color_a, label='Experiment A')\n",
    "plt.plot(experiment_b['date'], experiment_b['ctr'], marker='o', linestyle='-', markersize=5, linewidth=1, color=color_b, label='Experiment B')\n",
    "plt.ylabel('CTR (%)', fontsize=12)\n",
    "plt.grid(True)\n",
    "plt.xticks(fontsize=10, rotation=45)\n",
    "plt.yticks(fontsize=10)\n",
    "plt.tight_layout()\n",
    "plt.show()\n"
   ]
  },
  {
   "attachments": {},
   "cell_type": "markdown",
   "metadata": {},
   "source": [
    "#### Views, clicks, and CTR"
   ]
  },
  {
   "cell_type": "code",
   "execution_count": null,
   "metadata": {},
   "outputs": [],
   "source": [
    "# Filter rows for Experiment A\n",
    "experiment_a_data = data[data['experiment'] == 'experiement_a']\n",
    "\n",
    "# Calculate total views for Experiment A\n",
    "total_views_a = experiment_a_data['views'].sum()\n",
    "\n",
    "# Calculate total clicks for Experiment A\n",
    "total_clicks_a = experiment_a_data['clicks'].sum()\n",
    "\n",
    "# Calculate CTR for Experiment A\n",
    "ctr_a = (total_clicks_a / total_views_a) * 100\n",
    "\n",
    "# Filter rows for Experiment B\n",
    "experiment_b_data = data[data['experiment'] == 'experiement_b']\n",
    "\n",
    "# Calculate total views for Experiment B\n",
    "total_views_b = experiment_b_data['views'].sum()\n",
    "\n",
    "# Calculate total clicks for Experiment B\n",
    "total_clicks_b = experiment_b_data['clicks'].sum()\n",
    "\n",
    "# Calculate CTR for Experiment B\n",
    "ctr_b = (total_clicks_b / total_views_b) * 100\n",
    "\n",
    "# Print the results\n",
    "print(\"Experiment A:\")\n",
    "print(\"Total Views:\", total_views_a)\n",
    "print(\"Total Clicks:\", total_clicks_a)\n",
    "print(\"CTR:\", ctr_a)\n",
    "\n",
    "print(\"\\nExperiment B:\")\n",
    "print(\"Total Views:\", total_views_b)\n",
    "print(\"Total Clicks:\", total_clicks_b)\n",
    "print(\"CTR:\", ctr_b)\n"
   ]
  },
  {
   "attachments": {},
   "cell_type": "markdown",
   "metadata": {},
   "source": [
    "### Experiment 2:"
   ]
  },
  {
   "attachments": {},
   "cell_type": "markdown",
   "metadata": {},
   "source": [
    "#### Visualization"
   ]
  },
  {
   "cell_type": "code",
   "execution_count": null,
   "metadata": {},
   "outputs": [],
   "source": [
    "import pandas as pd\n",
    "import matplotlib.pyplot as plt\n",
    "from datetime import datetime\n",
    "\n",
    "# Read the CSV file containing numbers from the A/B test\n",
    "data = pd.read_csv('')\n",
    "\n",
    "# Convert 'date' column to datetime format\n",
    "data['date'] = pd.to_datetime(data['date'])\n",
    "\n",
    "# Convert 'date' column to custom date format like \"May 11\"\n",
    "data['date'] = data['date'].dt.strftime('%b %d')\n",
    "\n",
    "# Filter the data by experiment\n",
    "experiment_a = data[data['experiment'] == 'experiement_a']\n",
    "experiment_b = data[data['experiment'] == 'experiement_b']\n",
    "\n",
    "# Define custom colors for the lines\n",
    "color_a = \"#FF5733\"  \n",
    "color_b = \"#3498DB\"  \n",
    "\n",
    "# Create the line plot for Views\n",
    "plt.figure(figsize=(8, 3.5))\n",
    "plt.plot(experiment_a['date'], experiment_a['views'], marker='o', linestyle='-', markersize=5, linewidth=1, color=color_a, label='Implicit favorites')\n",
    "plt.plot(experiment_b['date'], experiment_b['views'], marker='o', linestyle='-', markersize=5, linewidth=1, color=color_b, label='CF (ALS)')\n",
    "plt.ylabel('Views', fontsize=12)\n",
    "plt.legend(fontsize=10, bbox_to_anchor =(0.65, 1.2), ncol =2)\n",
    "plt.grid(True)\n",
    "plt.xticks(fontsize=10, rotation=45)\n",
    "plt.yticks(fontsize=10)\n",
    "plt.tight_layout()\n",
    "plt.show()\n",
    "\n",
    "# Create the line plot for Clicks\n",
    "plt.figure(figsize=(8, 3))\n",
    "plt.plot(experiment_a['date'], experiment_a['clicks'], marker='o', linestyle='-', markersize=5, linewidth=1, color=color_a, label='Experiment A')\n",
    "plt.plot(experiment_b['date'], experiment_b['clicks'], marker='o', linestyle='-', markersize=5, linewidth=1, color=color_b, label='Experiment B')\n",
    "plt.ylabel('Clicks', fontsize=12)\n",
    "plt.grid(True)\n",
    "plt.xticks(fontsize=10, rotation=45)\n",
    "plt.yticks(fontsize=10)\n",
    "plt.tight_layout()\n",
    "plt.show()\n",
    "\n",
    "# Create the line plot for CTR\n",
    "plt.figure(figsize=(8, 3))\n",
    "plt.plot(experiment_a['date'], experiment_a['ctr'], marker='o', linestyle='-', markersize=5, linewidth=1, color=color_a, label='Experiment A')\n",
    "plt.plot(experiment_b['date'], experiment_b['ctr'], marker='o', linestyle='-', markersize=5, linewidth=1, color=color_b, label='Experiment B')\n",
    "plt.ylabel('CTR (%)', fontsize=12)\n",
    "plt.grid(True)\n",
    "plt.xticks(fontsize=10, rotation=45)\n",
    "plt.yticks(fontsize=10)\n",
    "plt.tight_layout()\n",
    "plt.show()\n"
   ]
  },
  {
   "attachments": {},
   "cell_type": "markdown",
   "metadata": {},
   "source": [
    "#### Views, Clicks, and CTR"
   ]
  },
  {
   "cell_type": "code",
   "execution_count": null,
   "metadata": {},
   "outputs": [],
   "source": [
    "# Filter rows for Experiment A\n",
    "experiment_a_data = data[data['experiment'] == 'experiement_a']\n",
    "\n",
    "# Calculate total views for Experiment A\n",
    "total_views_a = experiment_a_data['views'].sum()\n",
    "\n",
    "# Calculate total clicks for Experiment A\n",
    "total_clicks_a = experiment_a_data['clicks'].sum()\n",
    "\n",
    "# Calculate CTR for Experiment A\n",
    "ctr_a = (total_clicks_a / total_views_a) * 100\n",
    "\n",
    "# Filter rows for Experiment B\n",
    "experiment_b_data = data[data['experiment'] == 'experiement_b']\n",
    "\n",
    "# Calculate total views for Experiment B\n",
    "total_views_b = experiment_b_data['views'].sum()\n",
    "\n",
    "# Calculate total clicks for Experiment B\n",
    "total_clicks_b = experiment_b_data['clicks'].sum()\n",
    "\n",
    "# Calculate CTR for Experiment B\n",
    "ctr_b = (total_clicks_b / total_views_b) * 100\n",
    "\n",
    "# Print the results\n",
    "print(\"Experiment A:\")\n",
    "print(\"Total Views:\", total_views_a)\n",
    "print(\"Total Clicks:\", total_clicks_a)\n",
    "print(\"CTR:\", ctr_a)\n",
    "\n",
    "print(\"\\nExperiment B:\")\n",
    "print(\"Total Views:\", total_views_b)\n",
    "print(\"Total Clicks:\", total_clicks_b)\n",
    "print(\"CTR:\", ctr_b)\n"
   ]
  }
 ],
 "metadata": {
  "kernelspec": {
   "display_name": "Python 3",
   "language": "python",
   "name": "python3"
  },
  "language_info": {
   "codemirror_mode": {
    "name": "ipython",
    "version": 3
   },
   "file_extension": ".py",
   "mimetype": "text/x-python",
   "name": "python",
   "nbconvert_exporter": "python",
   "pygments_lexer": "ipython3",
   "version": "3.8.8"
  },
  "orig_nbformat": 4
 },
 "nbformat": 4,
 "nbformat_minor": 2
}
